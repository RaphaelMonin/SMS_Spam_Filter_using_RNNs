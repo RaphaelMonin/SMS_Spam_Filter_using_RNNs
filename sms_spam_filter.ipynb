{
 "cells": [
  {
   "cell_type": "markdown",
   "metadata": {},
   "source": [
    "## Set Up"
   ]
  },
  {
   "cell_type": "code",
   "execution_count": 1,
   "metadata": {},
   "outputs": [],
   "source": [
    "import tensorflow as tf\n",
    "from tensorflow.keras.preprocessing.text import Tokenizer\n",
    "from tensorflow.keras.preprocessing.sequence import pad_sequences\n",
    "\n",
    "import matplotlib.pyplot as plt\n",
    "import pandas as pd"
   ]
  },
  {
   "cell_type": "markdown",
   "metadata": {},
   "source": [
    "## Get the data"
   ]
  },
  {
   "cell_type": "code",
   "execution_count": 8,
   "metadata": {
    "scrolled": true
   },
   "outputs": [
    {
     "data": {
      "text/plain": [
       "(5572, 2)"
      ]
     },
     "execution_count": 8,
     "metadata": {},
     "output_type": "execute_result"
    }
   ],
   "source": [
    "SMSs = pd.read_csv('spam.csv', encoding='latin-1')\n",
    "SMSs = SMSs[['v1', 'v2']].rename(columns={'v1': 'ham/spam', 'v2': 'content'})\n",
    "SMSs = SMSs.sample(frac=1)\n",
    "SMSs.shape"
   ]
  },
  {
   "cell_type": "markdown",
   "metadata": {},
   "source": [
    "## Split the data"
   ]
  },
  {
   "cell_type": "code",
   "execution_count": 3,
   "metadata": {},
   "outputs": [
    {
     "data": {
      "text/plain": [
       "('lyricalladie(21/F) is inviting you to be her friend. Reply YES-910 or NO-910. See her: www.SMS.ac/u/hmmross STOP? Send STOP FRND to 62468',\n",
       " 1)"
      ]
     },
     "execution_count": 3,
     "metadata": {},
     "output_type": "execute_result"
    }
   ],
   "source": [
    "split = int(SMSs.shape[0]*0.66)\n",
    "ds_train = SMSs.loc[:split, 'content'].to_numpy()\n",
    "ds_test = SMSs.loc[split+1:, 'content'].to_numpy()\n",
    "train_labels = SMSs.loc[:split, 'ham/spam'].apply(lambda x: 1 if x=='spam' else 0).to_numpy()\n",
    "test_labels = SMSs.loc[split+1:, 'ham/spam'].apply(lambda x: 1 if x=='spam' else 0).to_numpy()\n",
    "ds_train[0], train_labels[0]"
   ]
  },
  {
   "cell_type": "markdown",
   "metadata": {},
   "source": [
    "## Preprocess the data"
   ]
  },
  {
   "cell_type": "code",
   "execution_count": 4,
   "metadata": {},
   "outputs": [
    {
     "data": {
      "text/plain": [
       "((1042, 50), (621, 50))"
      ]
     },
     "execution_count": 4,
     "metadata": {},
     "output_type": "execute_result"
    }
   ],
   "source": [
    "max_length = 50\n",
    "vocab_size = 5000\n",
    "embedding_size = 20\n",
    "\n",
    "tokenizer = Tokenizer(num_words=vocab_size, oov_token='<OOV>')\n",
    "tokenizer.fit_on_texts(ds_train)\n",
    "\n",
    "train_sentences = tokenizer.texts_to_sequences(ds_train)\n",
    "train_sequences = pad_sequences(train_sentences, maxlen=max_length, padding='post', truncating='post')\n",
    "\n",
    "test_sentences = tokenizer.texts_to_sequences(ds_test)\n",
    "test_sequences = pad_sequences(test_sentences, maxlen=max_length, padding='post', truncating='post')\n",
    "\n",
    "train_sequences.shape, test_sequences.shape"
   ]
  },
  {
   "cell_type": "markdown",
   "metadata": {},
   "source": [
    "## Define function to fit the model and show the results"
   ]
  },
  {
   "cell_type": "code",
   "execution_count": 5,
   "metadata": {},
   "outputs": [],
   "source": [
    "def fit_and_show(model, num_epochs=20):\n",
    "    model.summary()\n",
    "    history = model.fit(train_sequences, train_labels, epochs=num_epochs, validation_data=(test_sequences, test_labels), verbose=0)\n",
    "    plt.plot(history.history['accuracy'])\n",
    "    plt.plot(history.history['val_accuracy'])\n",
    "    plt.show()\n",
    "    classes = model.predict(test_sequences)\n",
    "    for i in range(classes.shape[0]):\n",
    "        if test_labels[i] == 0:\n",
    "            print('SMS: ' +  ds_test[i])\n",
    "            print('Spam ?: ', test_labels[i]==1)\n",
    "            print('Forecast: ', round(classes[i,0])==1, end='\\n\\n')\n",
    "            break\n",
    "    for i in range(classes.shape[0]):\n",
    "        if test_labels[i] == 1:\n",
    "            print('SMS: ' +  ds_test[i])\n",
    "            print('Spam ?: ', test_labels[i]==1)\n",
    "            print('Forecast: ', round(classes[i,0])==1, end='\\n\\n')\n",
    "            break"
   ]
  },
  {
   "cell_type": "markdown",
   "metadata": {},
   "source": [
    "## Use a LSTM model"
   ]
  },
  {
   "cell_type": "code",
   "execution_count": 11,
   "metadata": {},
   "outputs": [
    {
     "name": "stdout",
     "output_type": "stream",
     "text": [
      "Model: \"sequential_4\"\n",
      "_________________________________________________________________\n",
      "Layer (type)                 Output Shape              Param #   \n",
      "=================================================================\n",
      "embedding_4 (Embedding)      (None, None, 20)          100000    \n",
      "_________________________________________________________________\n",
      "lstm_2 (LSTM)                (None, 20)                3280      \n",
      "_________________________________________________________________\n",
      "dense_4 (Dense)              (None, 1)                 21        \n",
      "=================================================================\n",
      "Total params: 103,301\n",
      "Trainable params: 103,301\n",
      "Non-trainable params: 0\n",
      "_________________________________________________________________\n"
     ]
    },
    {
     "data": {
      "image/png": "[encoded data removed]",
      "text/plain": [
       "<Figure size 432x288 with 1 Axes>"
      ]
     },
     "metadata": {
      "needs_background": "light"
     },
     "output_type": "display_data"
    },
    {
     "name": "stdout",
     "output_type": "stream",
     "text": [
      "SMS: Stupid.its not possible\n",
      "Spam ?:  False\n",
      "Forecast:  False\n",
      "\n",
      "SMS: accordingly. I repeat, just text the word ok on your mobile phone and send\n",
      "Spam ?:  True\n",
      "Forecast:  False\n",
      "\n"
     ]
    }
   ],
   "source": [
    "model_lstm = tf.keras.Sequential([\n",
    "                             tf.keras.layers.Embedding(vocab_size, embedding_size),\n",
    "                             tf.keras.layers.LSTM(embedding_size),\n",
    "                             tf.keras.layers.Dense(1, activation='sigmoid')\n",
    "])\n",
    "model_lstm.compile(loss='binary_crossentropy', optimizer='adam', metrics='accuracy')\n",
    "fit_and_show(model_lstm)"
   ]
  },
  {
   "cell_type": "markdown",
   "metadata": {},
   "source": [
    "## Use a GRU model"
   ]
  },
  {
   "cell_type": "code",
   "execution_count": 10,
   "metadata": {},
   "outputs": [
    {
     "name": "stdout",
     "output_type": "stream",
     "text": [
      "Model: \"sequential_3\"\n",
      "_________________________________________________________________\n",
      "Layer (type)                 Output Shape              Param #   \n",
      "=================================================================\n",
      "embedding_3 (Embedding)      (None, None, 20)          100000    \n",
      "_________________________________________________________________\n",
      "gru_1 (GRU)                  (None, 32)                5184      \n",
      "_________________________________________________________________\n",
      "dense_3 (Dense)              (None, 1)                 33        \n",
      "=================================================================\n",
      "Total params: 105,217\n",
      "Trainable params: 105,217\n",
      "Non-trainable params: 0\n",
      "_________________________________________________________________\n"
     ]
    },
    {
     "data": {
      "image/png": "[encoded data removed]",
      "text/plain": [
       "<Figure size 432x288 with 1 Axes>"
      ]
     },
     "metadata": {
      "needs_background": "light"
     },
     "output_type": "display_data"
    },
    {
     "name": "stdout",
     "output_type": "stream",
     "text": [
      "SMS: Stupid.its not possible\n",
      "Spam ?:  False\n",
      "Forecast:  False\n",
      "\n",
      "SMS: accordingly. I repeat, just text the word ok on your mobile phone and send\n",
      "Spam ?:  True\n",
      "Forecast:  True\n",
      "\n"
     ]
    }
   ],
   "source": [
    "model_lstm = tf.keras.Sequential([\n",
    "                             tf.keras.layers.Embedding(vocab_size, embedding_size),\n",
    "                             tf.keras.layers.GRU(32),\n",
    "                             tf.keras.layers.Dense(1, activation='sigmoid')\n",
    "])\n",
    "model_lstm.compile(loss='binary_crossentropy', optimizer='adam', metrics='accuracy')\n",
    "fit_and_show(model_lstm)"
   ]
  },
  {
   "cell_type": "markdown",
   "metadata": {},
   "source": [
    "## Use a bidirectionnal LSTM model"
   ]
  },
  {
   "cell_type": "code",
   "execution_count": 6,
   "metadata": {},
   "outputs": [
    {
     "name": "stdout",
     "output_type": "stream",
     "text": [
      "Model: \"sequential\"\n",
      "_________________________________________________________________\n",
      "Layer (type)                 Output Shape              Param #   \n",
      "=================================================================\n",
      "embedding (Embedding)        (None, None, 20)          100000    \n",
      "_________________________________________________________________\n",
      "bidirectional (Bidirectional (None, 40)                6560      \n",
      "_________________________________________________________________\n",
      "dense (Dense)                (None, 1)                 41        \n",
      "=================================================================\n",
      "Total params: 106,601\n",
      "Trainable params: 106,601\n",
      "Non-trainable params: 0\n",
      "_________________________________________________________________\n"
     ]
    },
    {
     "data": {
      "image/png": "[encoded data removed]",
      "text/plain": [
       "<Figure size 432x288 with 1 Axes>"
      ]
     },
     "metadata": {
      "needs_background": "light"
     },
     "output_type": "display_data"
    },
    {
     "name": "stdout",
     "output_type": "stream",
     "text": [
      "SMS: Stupid.its not possible\n",
      "Spam ?:  False\n",
      "Forecast:  False\n",
      "\n",
      "SMS: accordingly. I repeat, just text the word ok on your mobile phone and send\n",
      "Spam ?:  True\n",
      "Forecast:  False\n",
      "\n"
     ]
    }
   ],
   "source": [
    "model_lstm = tf.keras.Sequential([\n",
    "                             tf.keras.layers.Embedding(vocab_size, embedding_size),\n",
    "                             tf.keras.layers.Bidirectional(tf.keras.layers.LSTM(embedding_size)),\n",
    "                             tf.keras.layers.Dense(1, activation='sigmoid')\n",
    "])\n",
    "model_lstm.compile(loss='binary_crossentropy', optimizer='adam', metrics='accuracy')\n",
    "fit_and_show(model_lstm)"
   ]
  },
  {
   "cell_type": "markdown",
   "metadata": {},
   "source": [
    "## Use a bidirectionnal GRU model"
   ]
  },
  {
   "cell_type": "code",
   "execution_count": 7,
   "metadata": {},
   "outputs": [
    {
     "name": "stdout",
     "output_type": "stream",
     "text": [
      "Model: \"sequential_1\"\n",
      "_________________________________________________________________\n",
      "Layer (type)                 Output Shape              Param #   \n",
      "=================================================================\n",
      "embedding_1 (Embedding)      (None, None, 20)          100000    \n",
      "_________________________________________________________________\n",
      "bidirectional_1 (Bidirection (None, 64)                10368     \n",
      "_________________________________________________________________\n",
      "dense_1 (Dense)              (None, 1)                 65        \n",
      "=================================================================\n",
      "Total params: 110,433\n",
      "Trainable params: 110,433\n",
      "Non-trainable params: 0\n",
      "_________________________________________________________________\n"
     ]
    },
    {
     "data": {
      "image/png": "[encoded data removed]",
      "text/plain": [
       "<Figure size 432x288 with 1 Axes>"
      ]
     },
     "metadata": {
      "needs_background": "light"
     },
     "output_type": "display_data"
    },
    {
     "name": "stdout",
     "output_type": "stream",
     "text": [
      "SMS: Stupid.its not possible\n",
      "Spam ?:  False\n",
      "Forecast:  False\n",
      "\n",
      "SMS: accordingly. I repeat, just text the word ok on your mobile phone and send\n",
      "Spam ?:  True\n",
      "Forecast:  False\n",
      "\n"
     ]
    }
   ],
   "source": [
    "model_gru = tf.keras.Sequential([\n",
    "                            tf.keras.layers.Embedding(vocab_size, embedding_size),\n",
    "                            tf.keras.layers.Bidirectional(tf.keras.layers.GRU(32)),\n",
    "                            tf.keras.layers.Dense(1, activation='sigmoid')\n",
    "])\n",
    "model_gru.compile(loss='binary_crossentropy', optimizer='Adam', metrics='accuracy')\n",
    "fit_and_show(model_gru)"
   ]
  }
 ],
 "metadata": {
  "kernelspec": {
   "display_name": "Python 3",
   "language": "python",
   "name": "python3"
  },
  "language_info": {
   "codemirror_mode": {
    "name": "ipython",
    "version": 3
   },
   "file_extension": ".py",
   "mimetype": "text/x-python",
   "name": "python",
   "nbconvert_exporter": "python",
   "pygments_lexer": "ipython3",
   "version": "3.7.6"
  }
 },
 "nbformat": 4,
 "nbformat_minor": 4
}
